{
 "cells": [
  {
   "cell_type": "markdown",
   "metadata": {},
   "source": [
    "Some of these boxes are heavy duty (for the pc) and some of these are just light enough"
   ]
  },
  {
   "cell_type": "code",
   "execution_count": 2,
   "metadata": {},
   "outputs": [
    {
     "name": "stderr",
     "output_type": "stream",
     "text": [
      "Device set to use cpu\n"
     ]
    },
    {
     "name": "stdout",
     "output_type": "stream",
     "text": [
      "[{'translation_text': \"Ito'y isang trabaho para sa akin.\"}]\n"
     ]
    }
   ],
   "source": [
    "# machine translation; USE THE PC FOR THIS\n",
    "from transformers import pipeline\n",
    "\n",
    "pipe = pipeline(\"translation\", model=\"Helsinki-NLP/opus-mt-en-tl\")\n",
    "\n",
    "print(pipe(\"This is a job for me.\"))"
   ]
  },
  {
   "cell_type": "code",
   "execution_count": 14,
   "metadata": {},
   "outputs": [
    {
     "name": "stdout",
     "output_type": "stream",
     "text": [
      "['Ang_Bangka_ni_Tatay_Mario___Filipino-v12023.04.12T012033.epub', 'Ang_Paglalaro_nina_Mina_at_Manay___Filipino-v12023.06.16T022744.epub', 'Ano_ang_Kinatatakutan_nina__Anopol_at_ni_Tang-id___Filipino-v12023.06.20T194135.epub', 'Luna_Papelastika___Filipino-v12023.04.07T035616.epub', 'Misteryo_ng_Itlog___Filipino.epub', 'Pwedeng-pwede,_Pani!___Filipino-v12023.04.07T033002.epub', 'Sino_ang_Magiging_Titser_Ko_sa_Pasukan____Filipino-v12023.11.14T034013.epub', 'Si_Kokoy_at_ang_Umang-umang___Filipino-v12023.04.07T084156.epub', 'Si_Pogi,_Si_Pogs_At_Ang_Tora-tora___Filipino-v12023.11.14T082955.epub', 'Super_Wanda___Filipino-v12023.04.07T025901.epub']\n"
     ]
    }
   ],
   "source": [
    "import tika\n",
    "from tika import parser\n",
    "import os\n",
    "\n",
    "print(os.listdir(\"./booksEpub\"))\n",
    "\n",
    "epubList = []\n",
    "\n",
    "for i in os.listdir(\"./booksEpub\"):\n",
    "    filePath = \"./booksEpub/\" + i\n",
    "    epubList.append(parser.from_file(filePath))"
   ]
  },
  {
   "cell_type": "code",
   "execution_count": null,
   "metadata": {},
   "outputs": [],
   "source": [
    "import pymupdf\n",
    "import os\n",
    "\n",
    "print(os.listdir(\"./booksEpub\"))\n",
    "\n",
    "ebookContent = {}\n",
    "\n",
    "for i in os.listdir(\"./booksEpub\"):\n",
    "    ebookText = \"\"\n",
    "    titlePageText = \"\"\n",
    "    filePath = \"./booksEpub/\" + i\n",
    "    doc = pymupdf.open(filePath)\n",
    "    for chapter in range(doc.chapter_count):\n",
    "        print(f\"Chapter {chapter}\")\n",
    "        if chapter==0:\n",
    "            # get the texts and it will be the key\n",
    "            currentPage = doc[(0,0)]\n",
    "            titlePageText = currentPage.get_text()\n",
    "        else:\n",
    "            for page in range(doc.chapter_page_count(chapter)):\n",
    "                print(f\"page {page}\")\n",
    "                currentPage = doc[(chapter, page)]\n",
    "                currentText = currentPage.get_text()\n",
    "                print(currentText)\n",
    "                # check if it's the last few pages\n",
    "                if not((\"Brought to you by\" in currentText) or (\"International License\" in currentText) or (\"Table of Contents\" in currentText) or (\"This book was developed as part of the ABC\" in currentText) or (\"Advancing Basic Education in the Philippines\" in currentText)):\n",
    "                    ebookText+=currentText\n",
    "                else:\n",
    "                    pass\n",
    "    \n",
    "    #print(ebookText)\n",
    "    ebookContent[titlePageText] = ebookText\n",
    "\n",
    "\n"
   ]
  },
  {
   "cell_type": "code",
   "execution_count": 53,
   "metadata": {},
   "outputs": [],
   "source": [
    "import re\n",
    "\n",
    "for key in ebookContent.keys():\n",
    "    processedKey = re.sub(r'[\\.]','',processedKey)\n",
    "    processedKey = re.sub(r' ','_',processedKey)\n",
    "    processedKey = re.sub(r'\\?','',processedKey)\n",
    "    f = open(f\"./textData1_pymupdf/{processedKey}.txt\",\"w\",encoding='utf-8')\n",
    "    #print(ebookContent[key])\n",
    "    f.writelines(ebookContent[key])\n",
    "    f.close()\n",
    "    #print(\"DONE\")"
   ]
  },
  {
   "cell_type": "code",
   "execution_count": 55,
   "metadata": {},
   "outputs": [],
   "source": [
    "import os\n",
    "import re\n",
    "\n",
    "sourceFolder = \"./textData1_pymupdf\"\n",
    "textNum = 1\n",
    "\n",
    "# format the text correctly first\n",
    "for i in os.listdir(sourceFolder):\n",
    "    filePathForTokenizingText = f\"{sourceFolder}/{i}\"\n",
    "    f = open(filePathForTokenizingText,'r', encoding='utf-8')\n",
    "    insideText = f.read()\n",
    "    f.close()\n",
    "\n",
    "    #formatting with regex\n",
    "\n",
    "    insideText = re.sub(r'[.]','. ',insideText)\n",
    "    insideText = re.sub('\\n',' ',insideText)\n",
    "    insideText = re.sub('- ','-',insideText)\n",
    "    insideText = re.sub('  ',' ',insideText)\n",
    "\n",
    "    f2 = open(\"./textData_forTokenization/text\"+str(textNum), \"w\", encoding='utf-8')\n",
    "    f2.writelines(insideText)\n",
    "    f2.close()\n",
    "\n",
    "    textNum+=1\n",
    "    "
   ]
  },
  {
   "cell_type": "code",
   "execution_count": null,
   "metadata": {},
   "outputs": [],
   "source": []
  }
 ],
 "metadata": {
  "kernelspec": {
   "display_name": "thesis_lite",
   "language": "python",
   "name": "python3"
  },
  "language_info": {
   "codemirror_mode": {
    "name": "ipython",
    "version": 3
   },
   "file_extension": ".py",
   "mimetype": "text/x-python",
   "name": "python",
   "nbconvert_exporter": "python",
   "pygments_lexer": "ipython3",
   "version": "3.12.8"
  }
 },
 "nbformat": 4,
 "nbformat_minor": 2
}
