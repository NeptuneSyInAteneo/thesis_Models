{
 "cells": [
  {
   "cell_type": "markdown",
   "metadata": {},
   "source": [
    "Some of these boxes are heavy duty (for the pc) and some of these are just light enough"
   ]
  },
  {
   "cell_type": "code",
   "execution_count": 2,
   "metadata": {},
   "outputs": [
    {
     "name": "stderr",
     "output_type": "stream",
     "text": [
      "Device set to use cpu\n"
     ]
    },
    {
     "name": "stdout",
     "output_type": "stream",
     "text": [
      "[{'translation_text': \"Ito'y isang trabaho para sa akin.\"}]\n"
     ]
    }
   ],
   "source": [
    "from transformers import pipeline\n",
    "\n",
    "pipe = pipeline(\"translation\", model=\"Helsinki-NLP/opus-mt-en-tl\")\n",
    "\n",
    "print(pipe(\"This is a job for me.\"))"
   ]
  },
  {
   "cell_type": "code",
   "execution_count": 8,
   "metadata": {},
   "outputs": [
    {
     "name": "stdout",
     "output_type": "stream",
     "text": [
      "['Ang_Bangka_ni_Tatay_Mario___Filipino-v12023.04.12T012033.epub', 'Ang_Paglalaro_nina_Mina_at_Manay___Filipino-v12023.06.16T022744.epub', 'Ano_ang_Kinatatakutan_nina__Anopol_at_ni_Tang-id___Filipino-v12023.06.20T194135.epub', 'Luna_Papelastika___Filipino-v12023.04.07T035616.epub', 'Misteryo_ng_Itlog___Filipino.epub', 'Pwedeng-pwede,_Pani!___Filipino-v12023.04.07T033002.epub', 'Sino_ang_Magiging_Titser_Ko_sa_Pasukan____Filipino-v12023.11.14T034013.epub', 'Si_Kokoy_at_ang_Umang-umang___Filipino-v12023.04.07T084156.epub', 'Si_Pogi,_Si_Pogs_At_Ang_Tora-tora___Filipino-v12023.11.14T082955.epub', 'Super_Wanda___Filipino-v12023.04.07T025901.epub']\n"
     ]
    }
   ],
   "source": [
    "import tika\n",
    "from tika import parser\n",
    "import os\n",
    "\n",
    "print(os.listdir(\"./booksEpub\"))\n",
    "\n",
    "epubList = []\n",
    "\n",
    "for i in os.listdir(\"./booksEpub\"):\n",
    "    filePath = \"./booksEpub/\" + i\n",
    "    epubList.append(parser.from_file(filePath))"
   ]
  },
  {
   "cell_type": "code",
   "execution_count": 13,
   "metadata": {},
   "outputs": [
    {
     "data": {
      "text/plain": [
       "'\\n\\n\\n\\n\\n\\n\\n\\n\\n\\n\\n\\n\\n\\n\\nAng Bangka ni Tatay Mario\\n\\n\\n        \\n            \\n        \\n\\n        Ang Bangka ni Tatay Mario\\n\\n        \\n            Jay C. Blancaflor\\n\\n\\n            Hannah Hope Vergara\\n\\n        \\n\\n\\n        \\n            \\n        \\n\\n    \\n    \\n        \\n            \\n        \\n\\n        Malamig na hangin ang humahampas sa balat ni Tatay Mario.Inaayos niya ang kaniyang bangka galing sa pangingisda sa dagat ng Roxas City. Ang kanilang bahay ay malapit sa tabing-dagat. Kalmado ang dagat, pahiwatig na maganda ang araw.\\n\\n    \\n\\n\\n    \\n        \\n            \\n        \\n\\n        Noong araw na iyon, marami siyang nahuli na isda. May managat, sapsap, bulawbulaw, at tabagak na sagana sagana ang Roxas. Bilang isang mangingisda, binubuhay niya ang kaniyang limang taong gulang na anak na si Ali.\\n\\n    \\n\\n\\n    \\n        \\n            \\n        \\n\\n        Si Ali ay masayang nakikipaglaro sa kaniyang mga kaibigan. Nakita niya ang kaniyang ama na naglalakad papunta sa kanilang bahay. May dala siyang balde. Tumakbo siya upang salubungin ang tatay.\\n\\n    \\n\\n\\n    \\n        \\n            \\n        \\n\\n        \"Tatay... Tatay... Andito ka na!\" sigaw ni Ali. Bigla niyang niyakap ang kaniyang tatay.\\n\"Basa ako, Anak. Bitawan mo muna ako. Mabigat din ang aking dinadala.\"\\n Dahan-dahan niyang binitawan ang mga kamay niya.\\n\"Tatay, madami ka namang nakuha?\" tanong ni Ali.\\n\"Oo, Anak. Madami ang kuha ko ngayon. Makakabili na tayo ng bagong damit at laruan,\" sagot ni Tatay.\\n\\n    \\n\\n\\n    \\n        \\n            \\n        \\n\\n        \"Yehey. May bago na naman akong damit at laruan,\" masayang sigaw ni Ali.\\n\"Sige na. Bumalik ka na doon at naghihintay ang iyong mga kalaro. \\nAyusin ko muna ang aking mga pangisda.\\n\"Sige, Tatay. Babalik na muna ako sa aking mga kalaro.\"\\n\\n    \\n\\n\\n    \\n        \\n            \\n        \\n\\n        \"Halika na! Maglaro tayo ulit!\" pag-anyaya ng kaniyang mga kaibigan. \\n\"Nanay, Tatay, gusto ko’ng tinapay, Ate, Kuya, gusto ko’ng kape. Lahat ng gusto ko ay susundin niyo!\" sabay-sabay na kanta nila. \\nHabang naglalaro, bigla na lang tumigil at nagtanong ang isa sa mga kaibigan niya.\\n\\n    \\n\\n\\n    \\n        \\n            \\n        \\n\\n        \"Ali, nasaan ang iyong nanay?\" tanong ng isa niyang kaibigan. Nagtanong din ang isa niyang kaibigan.\\n\"Bakit hindi namin siya nakikita? Si Tatay mo lang ang nandiyan.\" \\nNahiya si Ali at sumagot, \"May pinuntahan lang si Nanay ko. Iyan ang sabi ng Tatay.\" \\n\"Bakit hindi pa siya bumabalik?\" tanong ng isa niyang kaibigan. \\n\"Hindi ko rin alam kung bakit hindi pa siya nakabalik,\" malungkot na sagot ni Ali. \\n\"Mukhang magdidilim na. Uuwi na ako at baka hinahanap na ako ng Tatay ko.\" \\nMabilis na tumabakbo si Ali pabalik sa kanilang bahay.\\n\\n    \\n\\n\\n    \\n        \\n            \\n        \\n\\n        \\u200bHabang naghahapunan, tinaong ni Ali ang kaniyang tatay. \"Tatay, kailan babalik si Nanay?\"\\nHindi sumagot si Tatay sa tanong ni Ali. Biglang tumahimik si Ali sa harap ng kaniyang tatay.\\nDali-dali niyang tinatapos ang kaniyang hapunan at uminum ng tubig.\\n\"Tapos ka na bang kumain?\" tanong ni Tatay kay Ali. Tumango lang si Ali.\\n\\n    \\n\\n\\n    \\n        \\n            \\n        \\n\\n        \"Maghuhugas muna ako ng pinggan. Dito ka lang ha, Ali? Huwag ka munang lumabas dahil gabi na. Malakas din ang alon ngayong gabi,\" sabi ni Tatay Ali. \\nHindi sumagot si Ali. Pumunta sa likod ng bahay si Tatay Mario para maghugas ng kanilang pinagkainan.\\nNalungkot si Ali. Lumabas siya na hindi nagpaalam sa kaniyang Tatay.\\n\\n    \\n\\n\\n    \\n        \\n            \\n        \\n\\n        Naramdaman niya ang malakas na hamapas ng hangin habang naglalakad sa tabing dagat. Lumapit siya sa tubig at binabad ang kaniyang mga kamay hanggang lubusang nagtampisaw sa dagat.\\n\\n    \\n\\n\\n    \\n        \\n            \\n        \\n\\n        Bigla siyang hinampas ng malakas na alon ng tubig. Siya ay natumba at naanod. Lumutang siya sa dagat. May nainum siyang tubig. \\nUnti-unti siyang nalulunod habang naririnig ang sigaw ng kaniyang tatay. \\n\"Ali!\"\\n\\n    \\n\\n\\n    \\n        \\n            \\n        \\n\\n        Biglang may humila pataas sa mga kamay ni Ali. Niyakap siya ng mahigpit ng kaniyang tatay habang umiiyak. \\n\"Sabi ko na na huwag kang lumabas. Ayaw ko na pati ikaw, mawala pa sa akin, Ali. Ikaw na lang ang mayroon ako.\" \\n\\n    \\n\\n\\n    \\n        \\n            \\n        \\n\\n         Binuhat siya ng kaniyang tatay habang ang kanyang ulo ay nakapatong sa balikat ng kaniyang ama.\\nSa kanilang daan pauwi, nakita ni Ali ang bangka ng kaniyang tatay. “Mario 🎔 Ali” ang nasilayan ni Ali sa ilalim ng liwanag ng buwan.\\n\\n    \\n\\n\\n    \\n        \\n            \\n        \\n\\n        Si Tatay Mario ay isang mangingisda sa lungsod ng Roxas. Kasama niyang namumuhay nang matiwasay ay ang kaniyang anak na si Ali. Kasabay sa paglaki ni Ali ang kanyang tanong kung nasaan ang kanyang nanay - tanong na siyang magbubuhay ng pagmamahal ni Tatay Mario sa kanya. \\n\\n    \\n\\n\\n    \\n        \\n            \\n        \\n\\n        This book was developed as part of the ABC+: Advancing Basic Education in the Philippines project. ABC+ is a partnership of USAID and the Department of Education (DepEd), implemented by RTI International together with The Asia Foundation, SIL LEAD, and Florida State University.\\nThis book was quality assured by Micron Rey Fuego, Master Teacher I, ICS, SDO Iloilo City; Juvy Baranda, Principal II, SDO Capiz; Dymphna Leizel Jocson, Public Schools District Supervisor, District IV-C, Jaro; and Lilibeth Larupay, Education Program Supervisor - LRMS, SDO Iloilo.; and was approved for publishing by the Department of Education Region VI - Western Visayas Learning Resource Management Section (LRMS) of the Curriculum and Learning Management Division (CLMD).\\nThe workshops and professional development, along with the editing and design of this book, were conducted with the support of Hubon Manunulat, Kasingkasing Press, and Iloilo Museum of Contemporary Art.\\nIf you copy and distribute this work in its entirety, without making changes to content or illustrations, please label the work as follows: “Reproduced on the basis of an original work developed under the USAID ABC+: Advancing Basic Education in the Philippines project and licensed under the Creative Commons Attribution-NonCommercial 4. 0 International License.”\\nIf you create a translation of this work, please use the following label on your work: “Translated from an original work developed under the USAID ABC+: Advancing Basic Education in the Philippines project and licensed under the Creative Commons Attribution-NonCommercial 4. 0 International License.”\\nIf you create an adaptation of this work, please use the following label on your\\nwork: “This is an adaptation of an original work developed under the USAID ABC+: Advancing Basic Education in the Philippines project and licensed under the Creative Commons Attribution-NonCommercial 4. 0 International License.”\\nFor full terms of use and attribution, http://creativecommons.org/licenses/by-nc/4. 0/\\n\\n    \\n\\n\\n\\n\\t\\n\\t\\tBrought to you by\\n\\n\\t\\t\\n\\t\\t\\t \\n\\t\\t\\n\\n\\t\\tLet\\'s Read is an initiative of The Asia Foundation\\'s Books for Asia program that fosters young readers in Asia and the Pacific.\\n\\n\\t\\t\\tbooksforasia.org\\n\\t\\t\\n\\n\\t\\t\\n\\t\\t\\tTo read more books like this and get further information, visit\\n\\n\\t\\t\\twww.letsreadasia.org\\n\\t\\t\\n\\n\\t\\n\\n\\n\\t\\n\\t\\tOriginal Story\\n\\n\\t\\t\\tAng Bangka ni Tatay Mario.\\n\\t\\t\\t Author: Jay C. Blancaflor.\\n\\t\\t\\t Illustrator: Hannah Hope Vergara.\\n\\t\\t\\t\\n\\t\\t\\t Contributor: USAID\\'s ABC+: Advancing Basic Education in the Philippines.\\n\\t\\t\\n\\n\\t\\t\\n\\t\\t\\t Published by The Asia Foundation - Let\\'s Read, \\n\\t\\t\\thttps://www.letsreadasia.org\\n\\t\\t\\t © The Asia Foundation - Let\\'s Read. \\n\\t\\t\\tReleased under CC-BY-NC-4.0.\\n\\t\\t\\n\\n\\t\\t\\n\\t\\t\\tThis work is a modified version of the original story. @The Asia Foundation – Let’s Read, 2023. Some rights reserved. Released under CC-BY-NC-4.0.\\n\\t\\t\\n\\n\\t\\t\\n\\t\\t\\t\\n\\t\\t\\n\\n\\t\\t\\n\\t\\t\\tFor full terms of use and attribution, http://creativecommons.org/licenses/by-nc/4.0/\\n\\t\\t\\n\\n\\t\\t\\n\\t\\t\\tContributing translators: Arnel Murga\\n\\t\\t\\n\\n\\t\\t\\n\\t\\t\\t\\n\\t\\t\\n\\n\\t\\t\\n\\t\\t\\t\\n\\t\\t\\n\\n\\t\\n\\n\\n\\nTable of Contents\\n\\tPage 1\\n\\tPage 2\\n\\tPage 3\\n\\tPage 4\\n\\tPage 5\\n\\tPage 6\\n\\tPage 7\\n\\tPage 8\\n\\tPage 9\\n\\tPage 10\\n\\tPage 11\\n\\tPage 12\\n\\tPage 13\\n\\tPage 14\\n\\tPage 15\\n\\tCopyright\\n\\nGuide\\n\\tCover\\n\\tStart of Story\\n\\n\\n\\n\\n\\n\\n\\n\\n\\n\\n\\n\\n\\n\\n\\n\\n\\n\\n\\n\\n\\n\\n\\n\\n\\n\\n\\n\\n\\n\\n\\n\\n\\n\\n\\n\\n\\n\\n\\n\\n\\n\\n\\n\\n\\n\\n\\n\\n\\n\\n\\n\\n\\n\\n\\n\\n\\n\\n\\n\\n\\n\\n\\n\\n\\n\\n\\n\\n\\n\\n\\n\\n\\n\\n\\n\\nBahij Nazanin Bold\\n\\n\\n\\n\\n\\n\\n\\n\\n\\n\\n\\n\\n\\n\\n\\n\\n\\n\\nBahij Nazanin\\n\\n\\n\\n\\n\\n\\n\\n\\n\\n\\n\\n\\n\\n\\n\\n\\n\\nMV Ilham\\n\\n'"
      ]
     },
     "execution_count": 13,
     "metadata": {},
     "output_type": "execute_result"
    }
   ],
   "source": [
    "epubList[0]['content']"
   ]
  },
  {
   "cell_type": "code",
   "execution_count": null,
   "metadata": {},
   "outputs": [],
   "source": []
  }
 ],
 "metadata": {
  "kernelspec": {
   "display_name": "thesis_lite",
   "language": "python",
   "name": "python3"
  },
  "language_info": {
   "codemirror_mode": {
    "name": "ipython",
    "version": 3
   },
   "file_extension": ".py",
   "mimetype": "text/x-python",
   "name": "python",
   "nbconvert_exporter": "python",
   "pygments_lexer": "ipython3",
   "version": "3.12.8"
  }
 },
 "nbformat": 4,
 "nbformat_minor": 2
}
